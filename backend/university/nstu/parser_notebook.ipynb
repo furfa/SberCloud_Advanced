{
 "cells": [
  {
   "cell_type": "code",
   "execution_count": 27,
   "metadata": {},
   "outputs": [],
   "source": [
    "from bs4 import BeautifulSoup\n",
    "import requests\n",
    "import json\n",
    "\n",
    "import sys\n",
    "sys.path.append(\"../..\")\n",
    "from functions import save_file\n",
    "from datetime import datetime\n",
    "from tqdm.notebook import tqdm"
   ]
  },
  {
   "cell_type": "code",
   "execution_count": 28,
   "metadata": {},
   "outputs": [],
   "source": [
    "def make_soup(link):\n",
    "    r = requests.get(link)\n",
    "    soup = BeautifulSoup(r.content, features=\"html5lib\")\n",
    "    return soup"
   ]
  },
  {
   "cell_type": "code",
   "execution_count": 29,
   "metadata": {},
   "outputs": [],
   "source": [
    "def find_links_to_ratings():\n",
    "    result = {} \n",
    "    \n",
    "    soup = make_soup(\"https://www.nstu.ru/entrance/admission_campaign/entrance\")\n",
    "    \n",
    "    content = soup.find_all(\"div\", {\"class\": \"pleft\"})\n",
    "    tags = [i for i in content[0].children]\n",
    "    \n",
    "    for tag in tags:\n",
    "        if tag.name == \"h3\":\n",
    "            faculty_name = tag.text.strip()\n",
    "            if (faculty_name == \"Программы бакалавриата и специалитета, специальности среднего профессионального образования\"):\n",
    "                continue\n",
    "            if (faculty_name == \"Программы магистратуры\"):\n",
    "                break\n",
    "\n",
    "            result[faculty_name] = {}\n",
    "        if tag.name == \"table\":\n",
    "            if tag.tbody.tr.td.text.strip()[-8:] == \"Бакалавр\":\n",
    "                course_name = tag.tbody.tr.td.text.split(\",\")[0].strip().replace(\"\\xa0\", \" \")\n",
    "                link = tag.find(\"span\").a[\"href\"]\n",
    "                result[faculty_name][course_name] = link\n",
    "    return result"
   ]
  },
  {
   "cell_type": "code",
   "execution_count": 30,
   "metadata": {},
   "outputs": [],
   "source": [
    "def get_information_about_course(soup):\n",
    "    content = soup.find_all(\"main\", {\"class\": \"page-content\"})[0]\n",
    "    \n",
    "    # date\n",
    "    idx = content.text.find(\"Время\")\n",
    "    date = content.text[idx+49:idx+69].strip()\n",
    "    \n",
    "    # group\n",
    "    group = content.find_all(\"b\", string=\"Конкурсная группа: \")[0].next_sibling.strip().replace(\" \", \"\")\n",
    "    print(group)\n",
    "    # free\n",
    "    free_cnt = content.find_all(\"b\", string=\"Количество бюджетных мест в конкурсной группе по всем условиям поступления: \")\n",
    "    if len(free_cnt) != 0:\n",
    "        free_cnt = free_cnt[0].next_sibling\n",
    "        free_cnt = int(\"\".join([i for i in free_cnt if i.isdigit()]))\n",
    "    else:\n",
    "        free_cnt = 0\n",
    "    \n",
    "    \n",
    "    \n",
    "    # rating\n",
    "    table = content.table.find_all(\"tbody\")[1].find_all(\"tr\")\n",
    "    \n",
    "    k = 0\n",
    "    scores = []\n",
    "    for tag in table:\n",
    "        data = tag.find_all(\"td\")\n",
    "        if data[0].b is not None:\n",
    "            if data[0].b.i is not None:\n",
    "                if data[0].b.i.text == \"По конкурсу\":\n",
    "                    k = 1\n",
    "                    continue\n",
    "                if data[0].b.i.text == \"Не выдержавшие вступительные испытания\":\n",
    "                    break\n",
    "        if k != 0:\n",
    "            if k == 1:\n",
    "                olymp_cnt = int(data[0].text) - 1\n",
    "                k = 2\n",
    "            scores.append(int(data[10].b.text))\n",
    "    scores = scores[olymp_cnt:free_cnt]\n",
    "    \n",
    "    return (date, free_cnt, olymp_cnt, scores, group)"
   ]
  },
  {
   "cell_type": "code",
   "execution_count": 35,
   "metadata": {},
   "outputs": [],
   "source": [
    "def get_comp17():\n",
    "    with open('c17.json') as json_file:\n",
    "        data = json.load(json_file)\n",
    "    return data\n",
    "\n",
    "def get_comp18():\n",
    "    with open('c18.json') as json_file:\n",
    "        data = json.load(json_file)\n",
    "    return data\n",
    "\n",
    "def get_comp19():\n",
    "    with open('c19.json') as json_file:\n",
    "        data = json.load(json_file)\n",
    "    return data\n",
    "\n",
    "def get_subjects():\n",
    "    with open('subj.json') as json_file:\n",
    "        data = json.load(json_file)\n",
    "    return data"
   ]
  },
  {
   "cell_type": "code",
   "execution_count": 36,
   "metadata": {
    "scrolled": true
   },
   "outputs": [
    {
     "data": {
      "application/vnd.jupyter.widget-view+json": {
       "model_id": "c613f08919c342edabe08662a4f7e264",
       "version_major": 2,
       "version_minor": 0
      },
      "text/plain": [
       "HBox(children=(FloatProgress(value=0.0, max=12.0), HTML(value='')))"
      ]
     },
     "metadata": {},
     "output_type": "display_data"
    },
    {
     "data": {
      "application/vnd.jupyter.widget-view+json": {
       "model_id": "0f6861467d234ecf9a1e308ea543024b",
       "version_major": 2,
       "version_minor": 0
      },
      "text/plain": [
       "HBox(children=(FloatProgress(value=0.0, max=8.0), HTML(value='')))"
      ]
     },
     "metadata": {},
     "output_type": "display_data"
    },
    {
     "name": "stdout",
     "output_type": "stream",
     "text": [
      "АВТФ.1\n",
      "АВТФ.2\n",
      "АВТФ.3\n",
      "АВТФ.4\n",
      "АВТФ.5\n",
      "АВТФ.7\n",
      "АВТФ.8\n",
      "АВТФ.9\n",
      "\n"
     ]
    },
    {
     "data": {
      "application/vnd.jupyter.widget-view+json": {
       "model_id": "b419f8c742b441daa31a1c4eeecc4952",
       "version_major": 2,
       "version_minor": 0
      },
      "text/plain": [
       "HBox(children=(FloatProgress(value=0.0, max=9.0), HTML(value='')))"
      ]
     },
     "metadata": {},
     "output_type": "display_data"
    },
    {
     "name": "stdout",
     "output_type": "stream",
     "text": [
      "ФЛА.1\n",
      "ФЛА.3\n",
      "ФЛА.4\n",
      "ФЛА.7\n",
      "ФЛА.8\n",
      "ФЛА.9\n",
      "ФЛА.10\n",
      "ФЛА.12\n",
      "ФЛА.13\n",
      "\n"
     ]
    },
    {
     "data": {
      "application/vnd.jupyter.widget-view+json": {
       "model_id": "6f7e69d0f5dd4a3ca7ecfff18fb0115d",
       "version_major": 2,
       "version_minor": 0
      },
      "text/plain": [
       "HBox(children=(FloatProgress(value=0.0, max=10.0), HTML(value='')))"
      ]
     },
     "metadata": {},
     "output_type": "display_data"
    },
    {
     "name": "stdout",
     "output_type": "stream",
     "text": [
      "МТФ.1\n",
      "МТФ.2\n",
      "МТФ.3\n",
      "МТФ.4\n",
      "МТФ.5\n",
      "МТФ.6\n",
      "МТФ.7\n",
      "МТФ.8\n",
      "МТФ.9\n",
      "МТФ.10\n",
      "\n"
     ]
    },
    {
     "data": {
      "application/vnd.jupyter.widget-view+json": {
       "model_id": "1d0089acf7e3473a9dc8e2a5ff78710d",
       "version_major": 2,
       "version_minor": 0
      },
      "text/plain": [
       "HBox(children=(FloatProgress(value=0.0, max=4.0), HTML(value='')))"
      ]
     },
     "metadata": {},
     "output_type": "display_data"
    },
    {
     "name": "stdout",
     "output_type": "stream",
     "text": [
      "ФМА.1\n",
      "ФМА.2\n",
      "ФМА.3\n",
      "ФМА.1з\n",
      "\n"
     ]
    },
    {
     "data": {
      "application/vnd.jupyter.widget-view+json": {
       "model_id": "c4fa7d0ee16f4d8e95391cb2811e7324",
       "version_major": 2,
       "version_minor": 0
      },
      "text/plain": [
       "HBox(children=(FloatProgress(value=0.0, max=2.0), HTML(value='')))"
      ]
     },
     "metadata": {},
     "output_type": "display_data"
    },
    {
     "name": "stdout",
     "output_type": "stream",
     "text": [
      "ФПМИ.1\n",
      "ФПМИ.2\n",
      "\n"
     ]
    },
    {
     "data": {
      "application/vnd.jupyter.widget-view+json": {
       "model_id": "ee73cdd684234afd8d20a36ec68a6ab6",
       "version_major": 2,
       "version_minor": 0
      },
      "text/plain": [
       "HBox(children=(FloatProgress(value=0.0, max=5.0), HTML(value='')))"
      ]
     },
     "metadata": {},
     "output_type": "display_data"
    },
    {
     "name": "stdout",
     "output_type": "stream",
     "text": [
      "РЭФ.1\n",
      "РЭФ.2\n",
      "РЭФ.3\n",
      "РЭФ.4\n",
      "РЭФ.5\n",
      "\n"
     ]
    },
    {
     "data": {
      "application/vnd.jupyter.widget-view+json": {
       "model_id": "9501706d60bd405ebf249085d58c251e",
       "version_major": 2,
       "version_minor": 0
      },
      "text/plain": [
       "HBox(children=(FloatProgress(value=0.0, max=5.0), HTML(value='')))"
      ]
     },
     "metadata": {},
     "output_type": "display_data"
    },
    {
     "name": "stdout",
     "output_type": "stream",
     "text": [
      "ФТФ.1\n",
      "ФТФ.2\n",
      "ФТФ.3\n",
      "ФТФ.4\n",
      "ФТФ.5\n",
      "\n"
     ]
    },
    {
     "data": {
      "application/vnd.jupyter.widget-view+json": {
       "model_id": "2f48d721ab164bf49e0347ab1de1af5f",
       "version_major": 2,
       "version_minor": 0
      },
      "text/plain": [
       "HBox(children=(FloatProgress(value=0.0, max=5.0), HTML(value='')))"
      ]
     },
     "metadata": {},
     "output_type": "display_data"
    },
    {
     "name": "stdout",
     "output_type": "stream",
     "text": [
      "ФЭН.1з\n",
      "ФЭН.2\n",
      "ФЭН.3\n",
      "ФЭН.4\n",
      "ФЭН.2з\n",
      "\n"
     ]
    },
    {
     "data": {
      "application/vnd.jupyter.widget-view+json": {
       "model_id": "288efcc74c0048168d50c8ccceae222c",
       "version_major": 2,
       "version_minor": 0
      },
      "text/plain": [
       "HBox(children=(FloatProgress(value=0.0, max=8.0), HTML(value='')))"
      ]
     },
     "metadata": {},
     "output_type": "display_data"
    },
    {
     "name": "stdout",
     "output_type": "stream",
     "text": [
      "ФБ.1.1\n",
      "ФБ.1.2\n",
      "ФБ.2.1\n",
      "ФБ.2.2\n",
      "ФБ.2.3\n",
      "ФБ.2.4\n",
      "ФБ.3\n",
      "ФБ.4\n",
      "\n"
     ]
    },
    {
     "data": {
      "application/vnd.jupyter.widget-view+json": {
       "model_id": "f169e8c39a5e4e929c9728d8748ad13b",
       "version_major": 2,
       "version_minor": 0
      },
      "text/plain": [
       "HBox(children=(FloatProgress(value=0.0, max=12.0), HTML(value='')))"
      ]
     },
     "metadata": {},
     "output_type": "display_data"
    },
    {
     "name": "stdout",
     "output_type": "stream",
     "text": [
      "ФГО.1.1\n",
      "ФГО.1оз\n",
      "ФГО.2.1\n",
      "ФГО.2.2\n",
      "ФГО.3.1\n",
      "ФГО.3.2\n",
      "ФГО.4.1\n",
      "ФГО.4.2\n",
      "ФГО.5.1\n",
      "ФГО.5.2\n",
      "ФГО.5.3\n",
      "ФГО.6\n",
      "\n"
     ]
    },
    {
     "data": {
      "application/vnd.jupyter.widget-view+json": {
       "model_id": "fd97b8d797734b19a0ee5619e2afdf5b",
       "version_major": 2,
       "version_minor": 0
      },
      "text/plain": [
       "HBox(children=(FloatProgress(value=0.0, max=17.0), HTML(value='')))"
      ]
     },
     "metadata": {},
     "output_type": "display_data"
    },
    {
     "name": "stdout",
     "output_type": "stream",
     "text": [
      "ИДО.1\n",
      "ИДО.2\n",
      "ИДО.3\n",
      "ИДО.4\n",
      "ИДО.5\n",
      "ИДО.6\n",
      "ИДО.7\n",
      "ИДО.8\n",
      "ИДО.10\n",
      "ИДО.11\n",
      "ИДО.12.1\n",
      "ИДО.12.2\n",
      "ИДО.14\n",
      "ИДО.15\n",
      "ИДО.17\n",
      "ИДО.18\n",
      "ИДО.19\n",
      "\n"
     ]
    },
    {
     "data": {
      "application/vnd.jupyter.widget-view+json": {
       "model_id": "ae29c92de9c74b9b9061a710c7354fea",
       "version_major": 2,
       "version_minor": 0
      },
      "text/plain": [
       "HBox(children=(FloatProgress(value=0.0, max=4.0), HTML(value='')))"
      ]
     },
     "metadata": {},
     "output_type": "display_data"
    },
    {
     "name": "stdout",
     "output_type": "stream",
     "text": [
      "ИСТР.1\n",
      "ИСТР.2\n",
      "ИСТР.3\n",
      "ИСТР.4\n",
      "\n",
      "\n"
     ]
    }
   ],
   "source": [
    "data = find_links_to_ratings()\n",
    "competition2017 = get_comp17()\n",
    "competition2018 = get_comp18()\n",
    "competition2019 = get_comp19()\n",
    "subjects = get_subjects()\n",
    "res = [str(datetime.today()), []]\n",
    "for faculty in tqdm(list(data.keys())):\n",
    "    for (course, link) in tqdm(data[faculty].items()):\n",
    "        info_about_course = {}\n",
    "        soup = make_soup(link)\n",
    "        \n",
    "        info_about_course[\"fac_name\"] = faculty + \" \" + course\n",
    "        \n",
    "        info = get_information_about_course(soup)\n",
    "        info_about_course[\"date_updated\"] = info[0]\n",
    "        info_about_course[\"scores\"] = info[3]\n",
    "        if (len(info[3]) != 0):\n",
    "            info_about_course[\"last_score\"] = info[3][-1]\n",
    "        else:\n",
    "            info_about_course[\"last_score\"] = None\n",
    "        info_about_course[\"free_places\"] = info[1]\n",
    "        info_about_course[\"olymp_cnt\"] = info[2]\n",
    "        \n",
    "        info_about_course[\"subjects\"] = subjects[info_about_course[\"fac_name\"]]\n",
    "        \n",
    "        try:\n",
    "            info_about_course[\"prev_years17\"] = competition2017[info[4]]\n",
    "        except KeyError:\n",
    "            info_about_course[\"prev_years17\"] = None\n",
    "        try:\n",
    "            info_about_course[\"prev_years17\"] = competition2018[info[4]]\n",
    "        except KeyError:\n",
    "            info_about_course[\"prev_years17\"] = None\n",
    "        try:\n",
    "            info_about_course[\"prev_years17\"] = competition2019[info[4]]\n",
    "        except KeyError:\n",
    "            info_about_course[\"prev_years17\"] = None \n",
    "        \n",
    "        res[1].append(info_about_course)"
   ]
  },
  {
   "cell_type": "code",
   "execution_count": 33,
   "metadata": {},
   "outputs": [
    {
     "name": "stdout",
     "output_type": "stream",
     "text": [
      "Saved to 2020-07-30 16:26:40.026894.json\n"
     ]
    },
    {
     "data": {
      "text/plain": [
       "'2020-07-30 16:26:40.026894.json'"
      ]
     },
     "execution_count": 33,
     "metadata": {},
     "output_type": "execute_result"
    }
   ],
   "source": [
    "save_file(json.dumps(res))"
   ]
  },
  {
   "cell_type": "markdown",
   "metadata": {},
   "source": [
    "## \"Парсеры-однодневки\""
   ]
  },
  {
   "cell_type": "code",
   "execution_count": 21,
   "metadata": {},
   "outputs": [],
   "source": [
    "s = make_soup(\"https://www.nstu.ru/entrance/competition/competition2017\")\n",
    "l = [i.div.span.text for i in s.find(\"table\", {\"width\": \"896\"}).find_all(\"td\", {\"width\": [\"76\", \"73\"]})[3:]]\n",
    "c17 = {}\n",
    "for i in range(0, len(l), 3):\n",
    "    c17[l[i]] = (l[i+2] if l[i+2] != \"–\" else None)\n",
    "    \n",
    "with open('c17.json', 'w') as outfile:\n",
    "    json.dump(c17, outfile)"
   ]
  },
  {
   "cell_type": "code",
   "execution_count": 22,
   "metadata": {},
   "outputs": [],
   "source": [
    "c18 = {}\n",
    "s = make_soup(\"https://www.nstu.ru/entrance/competition/competition2018\")\n",
    "l = s.find(\"table\", {\"width\": \"948\"}).find_all(\"td\", {\"width\": [\"119\", \"105\"]})[2:]\n",
    "for i in range(0, len(l), 2):\n",
    "    c18[l[i].p.b.span.text] = (l[i+1].p.span.text if l[i+1].p is not None else None)\n",
    "        \n",
    "with open('c18.json', 'w') as outfile:\n",
    "    json.dump(c18, outfile)"
   ]
  },
  {
   "cell_type": "code",
   "execution_count": 23,
   "metadata": {},
   "outputs": [],
   "source": [
    "c19 = {}\n",
    "s = make_soup(\"https://www.nstu.ru/entrance/admission_campaign/completition2019\")\n",
    "l = s.find(\"table\", {\"width\": \"861\"}).find_all(\"tr\")[1:]\n",
    "for i in range(len(l)):\n",
    "    tds = l[i].find_all(\"td\")\n",
    "    if (tds[0].text == \"Магистратура\"):\n",
    "        break\n",
    "    c19[tds[0].find(\"br\").previous_sibling] = (int(tds[1].text) if tds[1].text.strip() != \"\" else None)\n",
    "    \n",
    "with open('c19.json', 'w') as outfile:\n",
    "    json.dump(c19, outfile)"
   ]
  },
  {
   "cell_type": "code",
   "execution_count": 31,
   "metadata": {},
   "outputs": [
    {
     "data": {
      "application/vnd.jupyter.widget-view+json": {
       "model_id": "9b9404c5744b4c0487817a01bb90b018",
       "version_major": 2,
       "version_minor": 0
      },
      "text/plain": [
       "HBox(children=(FloatProgress(value=0.0, max=12.0), HTML(value='')))"
      ]
     },
     "metadata": {},
     "output_type": "display_data"
    },
    {
     "data": {
      "application/vnd.jupyter.widget-view+json": {
       "model_id": "4be150462e7b438ca1ca8ae7177994a4",
       "version_major": 2,
       "version_minor": 0
      },
      "text/plain": [
       "HBox(children=(FloatProgress(value=0.0, max=8.0), HTML(value='')))"
      ]
     },
     "metadata": {},
     "output_type": "display_data"
    },
    {
     "name": "stdout",
     "output_type": "stream",
     "text": [
      "\n"
     ]
    },
    {
     "data": {
      "application/vnd.jupyter.widget-view+json": {
       "model_id": "98317b4c96734e12ac78b3478219cdb8",
       "version_major": 2,
       "version_minor": 0
      },
      "text/plain": [
       "HBox(children=(FloatProgress(value=0.0, max=9.0), HTML(value='')))"
      ]
     },
     "metadata": {},
     "output_type": "display_data"
    },
    {
     "name": "stdout",
     "output_type": "stream",
     "text": [
      "\n"
     ]
    },
    {
     "data": {
      "application/vnd.jupyter.widget-view+json": {
       "model_id": "f11d1f62d04649b89e6db53d39c55204",
       "version_major": 2,
       "version_minor": 0
      },
      "text/plain": [
       "HBox(children=(FloatProgress(value=0.0, max=10.0), HTML(value='')))"
      ]
     },
     "metadata": {},
     "output_type": "display_data"
    },
    {
     "name": "stdout",
     "output_type": "stream",
     "text": [
      "\n"
     ]
    },
    {
     "data": {
      "application/vnd.jupyter.widget-view+json": {
       "model_id": "092a5448db2d4fbe8cd07e9f9ec95346",
       "version_major": 2,
       "version_minor": 0
      },
      "text/plain": [
       "HBox(children=(FloatProgress(value=0.0, max=4.0), HTML(value='')))"
      ]
     },
     "metadata": {},
     "output_type": "display_data"
    },
    {
     "name": "stdout",
     "output_type": "stream",
     "text": [
      "\n"
     ]
    },
    {
     "data": {
      "application/vnd.jupyter.widget-view+json": {
       "model_id": "2928c8aad95c4fbea92558769c8bca28",
       "version_major": 2,
       "version_minor": 0
      },
      "text/plain": [
       "HBox(children=(FloatProgress(value=0.0, max=2.0), HTML(value='')))"
      ]
     },
     "metadata": {},
     "output_type": "display_data"
    },
    {
     "name": "stdout",
     "output_type": "stream",
     "text": [
      "\n"
     ]
    },
    {
     "data": {
      "application/vnd.jupyter.widget-view+json": {
       "model_id": "883d4121644e4bcd8491f6aeae480d9d",
       "version_major": 2,
       "version_minor": 0
      },
      "text/plain": [
       "HBox(children=(FloatProgress(value=0.0, max=5.0), HTML(value='')))"
      ]
     },
     "metadata": {},
     "output_type": "display_data"
    },
    {
     "name": "stdout",
     "output_type": "stream",
     "text": [
      "\n"
     ]
    },
    {
     "data": {
      "application/vnd.jupyter.widget-view+json": {
       "model_id": "3cfaf3fda0f8448f9cd1d0dae761bde7",
       "version_major": 2,
       "version_minor": 0
      },
      "text/plain": [
       "HBox(children=(FloatProgress(value=0.0, max=5.0), HTML(value='')))"
      ]
     },
     "metadata": {},
     "output_type": "display_data"
    },
    {
     "name": "stdout",
     "output_type": "stream",
     "text": [
      "\n"
     ]
    },
    {
     "data": {
      "application/vnd.jupyter.widget-view+json": {
       "model_id": "25d8051e52aa4eab8e03c68d3b3a413c",
       "version_major": 2,
       "version_minor": 0
      },
      "text/plain": [
       "HBox(children=(FloatProgress(value=0.0, max=5.0), HTML(value='')))"
      ]
     },
     "metadata": {},
     "output_type": "display_data"
    },
    {
     "name": "stdout",
     "output_type": "stream",
     "text": [
      "\n"
     ]
    },
    {
     "data": {
      "application/vnd.jupyter.widget-view+json": {
       "model_id": "cb4132fc1b494411862c54740e697aab",
       "version_major": 2,
       "version_minor": 0
      },
      "text/plain": [
       "HBox(children=(FloatProgress(value=0.0, max=8.0), HTML(value='')))"
      ]
     },
     "metadata": {},
     "output_type": "display_data"
    },
    {
     "name": "stdout",
     "output_type": "stream",
     "text": [
      "\n"
     ]
    },
    {
     "data": {
      "application/vnd.jupyter.widget-view+json": {
       "model_id": "952e424d75ab4624b9b3c07354adf88a",
       "version_major": 2,
       "version_minor": 0
      },
      "text/plain": [
       "HBox(children=(FloatProgress(value=0.0, max=12.0), HTML(value='')))"
      ]
     },
     "metadata": {},
     "output_type": "display_data"
    },
    {
     "name": "stdout",
     "output_type": "stream",
     "text": [
      "\n"
     ]
    },
    {
     "data": {
      "application/vnd.jupyter.widget-view+json": {
       "model_id": "b8e4c124c436435e8e9749b4c2316d76",
       "version_major": 2,
       "version_minor": 0
      },
      "text/plain": [
       "HBox(children=(FloatProgress(value=0.0, max=17.0), HTML(value='')))"
      ]
     },
     "metadata": {},
     "output_type": "display_data"
    },
    {
     "name": "stdout",
     "output_type": "stream",
     "text": [
      "\n"
     ]
    },
    {
     "data": {
      "application/vnd.jupyter.widget-view+json": {
       "model_id": "53dacbdda7e74b3ca81d150c36371df9",
       "version_major": 2,
       "version_minor": 0
      },
      "text/plain": [
       "HBox(children=(FloatProgress(value=0.0, max=4.0), HTML(value='')))"
      ]
     },
     "metadata": {},
     "output_type": "display_data"
    },
    {
     "name": "stdout",
     "output_type": "stream",
     "text": [
      "\n",
      "\n"
     ]
    }
   ],
   "source": [
    "subj = {}\n",
    "data = find_links_to_ratings()\n",
    "decoder = {\n",
    "    'Био.': 'Биология',\n",
    "    'Гео.': 'География',\n",
    "      'ИЯ': 'Иностранный язык',\n",
    "    'Инф.': 'Информатика и ИКТ',\n",
    "    'Ист.': 'История',\n",
    "    'Лит.': 'Литература',\n",
    "    'Мат.': 'Математика',\n",
    "    'Общ.': 'Обществознание',\n",
    "      'РЯ': 'Русский язык',\n",
    "    'Физ.': 'Физика',\n",
    "    'Хим.': 'Химия'\n",
    "}\n",
    "for faculty in tqdm(list(data.keys())):\n",
    "    for (course, link) in tqdm(data[faculty].items()):\n",
    "        soup = make_soup(link)\n",
    "        subj[faculty+' '+course] = [decoder[tag.text] for tag in soup.find(\"table\").thead.find_all(\"tr\")[1].find_all(\"th\")[:3]]\n",
    "\n",
    "with open('subj.json', 'w') as outfile:\n",
    "    json.dump(subj, outfile)"
   ]
  },
  {
   "cell_type": "code",
   "execution_count": 33,
   "metadata": {},
   "outputs": [],
   "source": []
  },
  {
   "cell_type": "code",
   "execution_count": null,
   "metadata": {},
   "outputs": [],
   "source": []
  }
 ],
 "metadata": {
  "kernelspec": {
   "display_name": "Python 3",
   "language": "python",
   "name": "python3"
  },
  "language_info": {
   "codemirror_mode": {
    "name": "ipython",
    "version": 3
   },
   "file_extension": ".py",
   "mimetype": "text/x-python",
   "name": "python",
   "nbconvert_exporter": "python",
   "pygments_lexer": "ipython3",
   "version": "3.7.2"
  }
 },
 "nbformat": 4,
 "nbformat_minor": 4
}
